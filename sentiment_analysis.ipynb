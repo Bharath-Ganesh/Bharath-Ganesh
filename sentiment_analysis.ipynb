{
 "cells": [
  {
   "cell_type": "markdown",
   "metadata": {},
   "source": [
    "Sentiment Analysis On Tweets"
   ]
  },
  {
   "cell_type": "code",
   "execution_count": 3,
   "metadata": {},
   "outputs": [
    {
     "name": "stdout",
     "output_type": "stream",
     "text": [
      "       textID                                         tweet_text sentiment\n",
      "0  1956967666  Layin n bed with a headache  ughhhh...waitin o...  negative\n",
      "1  1956967696                Funeral ceremony...gloomy friday...  negative\n",
      "2  1956967789               wants to hang out with friends SOON!  positive\n",
      "3  1956968477  Re-pinging @ghostridah14: why didn't you go to...  negative\n",
      "4  1956968636               Hmmm. http://www.djhero.com/ is down  negative\n"
     ]
    }
   ],
   "source": [
    "import pandas as pd\n",
    "df = pd.read_csv('dataset/tweet_data.csv')\n",
    "# Print the first few rows of the DataFrame\n",
    "print(df.head())  "
   ]
  },
  {
   "cell_type": "code",
   "execution_count": null,
   "metadata": {},
   "outputs": [],
   "source": []
  }
 ],
 "metadata": {
  "kernelspec": {
   "display_name": "base",
   "language": "python",
   "name": "python3"
  },
  "language_info": {
   "codemirror_mode": {
    "name": "ipython",
    "version": 3
   },
   "file_extension": ".py",
   "mimetype": "text/x-python",
   "name": "python",
   "nbconvert_exporter": "python",
   "pygments_lexer": "ipython3",
   "version": "3.12.8"
  }
 },
 "nbformat": 4,
 "nbformat_minor": 2
}
